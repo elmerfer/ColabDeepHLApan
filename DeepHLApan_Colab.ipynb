{
  "nbformat": 4,
  "nbformat_minor": 0,
  "metadata": {
    "colab": {
      "provenance": [],
      "collapsed_sections": []
    },
    "kernelspec": {
      "name": "python3",
      "display_name": "Python 3"
    },
    "language_info": {
      "name": "python"
    },
    "accelerator": "GPU",
    "gpuClass": "standard"
  },
  "cells": [
    {
      "cell_type": "markdown",
      "source": [
        "## 1. Upload your .CSV file\n",
        "####Select the folder icon on the column to the left, then select the paper icon with an upwards arrow to upload your CSV file.\n",
        "\n",
        "#### Optionally, follow step 1 and drag your file to the column to upload it.\n",
        "\n",
        "<img src=\"https://drive.google.com/uc?id=1a9QqqN0gpwOsrmlXD0gEfh_7MoKlkqpV\">\n",
        "\n",
        "\n",
        "####Please remember to use the official format convention as told by the GitHub repository."
      ],
      "metadata": {
        "id": "XJVHzhCiB9iM"
      }
    },
    {
      "cell_type": "markdown",
      "source": [
        "##2. Run \n",
        "\n",
        "####Please execute this cell by pressing the button below to run DeepHLApan. This will easily generate immunogenic scores for peptides/alleles and will be stored on your computer in the shape of an .csv file that stores everything."
      ],
      "metadata": {
        "id": "pKQCbEMxB2oh"
      }
    },
    {
      "cell_type": "code",
      "source": [
        "!git clone https://github.com/elmerfer/ColabDeepHLApan.git\n",
        "From ColabDeepHLApan import deephlapan\n",
        "deephlapan.install()\n",
        "deephlapan.run()"
      ],
      "metadata": {
        "id": "dCPVxNA-8UMV"
      },
      "execution_count": null,
      "outputs": []
    }
  ]
}
